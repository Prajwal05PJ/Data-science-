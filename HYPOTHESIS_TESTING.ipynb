{
  "nbformat": 4,
  "nbformat_minor": 0,
  "metadata": {
    "colab": {
      "provenance": []
    },
    "kernelspec": {
      "name": "python3",
      "display_name": "Python 3"
    },
    "language_info": {
      "name": "python"
    }
  },
  "cells": [
    {
      "cell_type": "markdown",
      "source": [
        "**CHI-SQUARE TEST**"
      ],
      "metadata": {
        "id": "wj__AfdQr7b1"
      }
    },
    {
      "cell_type": "code",
      "source": [
        "import numpy as np\n",
        "from scipy.stats import chi2_contingency, chi2\n",
        "\n",
        "# Data\n",
        "Smart_thermostat = [50, 80, 60, 30, 20]\n",
        "Smart_light = [70, 100, 90, 50, 50]\n",
        "\n",
        "# Create a contingency table\n",
        "observed = np.array([Smart_thermostat, Smart_light])\n",
        "\n",
        "# Perform Chi-Square test\n",
        "chi2_stat, p_val, dof, expected = chi2_contingency(observed)\n",
        "\n",
        "# Printing the Chi-Square statistic, p-value, degrees of freedom, and expected frequencies\n",
        "print(f\"Chi-Square Statistic: {chi2_stat}\")\n",
        "print(f\"P-Value: {p_val}\")\n",
        "print(f\"Degrees of Freedom: {dof}\")\n",
        "print(\"Expected Frequencies:\")\n",
        "print(expected)\n",
        "\n",
        "# Determining the critical value for alpha = 0.05\n",
        "alpha = 0.05\n",
        "critical_value = chi2.ppf(1 - alpha, dof)\n",
        "print(f\"Critical Value: {critical_value}\")\n",
        "print(f\"chi2_stat:{chi2_stat}\")\n",
        "#decision\n",
        "if chi2_stat > critical_value:\n",
        "    print(\"Reject the null hypothesis. There is a significant association between the type of smart home device and customer satisfaction level.\")\n",
        "else:\n",
        "    print(\"Fail to reject the null hypothesis. There is no significant association between the type of smart home device and customer satisfaction level.\")\n"
      ],
      "metadata": {
        "colab": {
          "base_uri": "https://localhost:8080/"
        },
        "id": "mcymkxpvyV4k",
        "outputId": "923c9386-29a6-475f-939e-cc0cc070b8ad"
      },
      "execution_count": 22,
      "outputs": [
        {
          "output_type": "stream",
          "name": "stdout",
          "text": [
            "Chi-Square Statistic: 5.638227513227513\n",
            "P-Value: 0.22784371130697179\n",
            "Degrees of Freedom: 4\n",
            "Expected Frequencies:\n",
            "[[ 48.  72.  60.  32.  28.]\n",
            " [ 72. 108.  90.  48.  42.]]\n",
            "Critical Value: 9.487729036781154\n",
            "chi2_stat:5.638227513227513\n",
            "Fail to reject the null hypothesis. There is no significant association between the type of smart home device and customer satisfaction level.\n"
          ]
        }
      ]
    },
    {
      "cell_type": "markdown",
      "source": [
        "**SUMMARY**\n",
        "\n",
        "1. State the Hypotheses:\n",
        "Null Hypothesis (H0): There is no significant association between the type of smart home device purchased (Smart Thermostats vs. Smart Lights) and the customer satisfaction level.\n",
        "Alternative Hypothesis (H1): There is a significant association between the type of smart home device purchased (Smart Thermostats vs. Smart Lights) and the customer satisfaction level.\n",
        "\n",
        "2. Compute the Chi-Square Statistic:\n",
        "Observed Frequencies:\n",
        "Smart Thermostat: {Smart_thermostat}\n",
        "Smart Light: {Smart_light}\n",
        "\n",
        "Chi-Square Statistic: {chi2_stat}\n",
        "P-Value: {p_val}\n",
        "Degrees of Freedom: {dof}\n",
        "Expected Frequencies:\n",
        "{expected}\n",
        "\n",
        "3. Determining the Critical Value:\n",
        "Using the significance level (alpha) of 0.05 and the degrees of freedom (dof = {dof}):\n",
        "Critical Value: {critical_value}\n",
        "\n",
        "4. Making a Decision:\n",
        "Comparison:\n",
        "Chi-Square Statistic: {chi2_stat}\n",
        "Critical Value: {critical_value}\n",
        "\n",
        "Conclusion:\n",
        "\"Reject the null hypothesis. There is a significant association between the type of smart home device and customer satisfaction level.\"\n",
        ""
      ],
      "metadata": {
        "id": "ptMQ6vV63pTy"
      }
    },
    {
      "cell_type": "markdown",
      "source": [
        "**HYPOTHESIS TESTING**"
      ],
      "metadata": {
        "id": "kmNwB_XO4a0s"
      }
    },
    {
      "cell_type": "code",
      "source": [
        "import numpy as np\n",
        "from scipy.stats import t\n",
        "\n",
        "# Given data\n",
        "sample_mean_cost = 3050\n",
        "sample_size = 25\n",
        "units_mean = 600\n",
        "units_std = 25\n",
        "\n",
        "# Theoretical weekly operating cost model\n",
        "theoretical_cost_mean = 1000 + 5 * units_mean\n",
        "\n",
        "# Standard deviation of the sample mean\n",
        "# According to the cost model, each unit produced increases the cost by $5\n",
        "# So, the standard deviation of the weekly cost is 5 times the standard deviation of units produced\n",
        "std_dev = 5 * units_std\n",
        "\n",
        "#standard error of the mean\n",
        "standard_error = std_dev / np.sqrt(sample_size)\n",
        "\n",
        "#test statistic (t)\n",
        "t_stat = (sample_mean_cost - theoretical_cost_mean) / standard_error\n",
        "\n",
        "#critical value for a one-tailed test at alpha = 0.05\n",
        "alpha = 0.05\n",
        "degrees_of_freedom = sample_size - 1\n",
        "critical_value = t.ppf(1 - alpha, degrees_of_freedom)\n",
        "\n",
        "# Printing all the results\n",
        "print(f\"Theoretical Mean Weekly Cost: {theoretical_cost_mean}\")\n",
        "print(f\"Sample Mean Weekly Cost: {sample_mean_cost}\")\n",
        "print(f\"Standard Deviation of Sample Mean: {std_dev}\")\n",
        "print(f\"Standard Error of the Mean: {standard_error}\")\n",
        "print(f\"Test Statistic (t): {t_stat}\")\n",
        "print(f\"Critical Value: {critical_value}\")\n",
        "\n",
        "#decision\n",
        "if t_stat > critical_value:\n",
        "    print(\"Reject the null hypothesis. There is strong evidence to support the restaurant owners claim that the weekly operating costs are higher than the model suggests.\")\n",
        "else:\n",
        "    print(\"Fail to reject the null hypothesis. There is not enough evidence to support the restaurant owners claim that the weekly operating costs are higher than the model suggests.\")\n"
      ],
      "metadata": {
        "colab": {
          "base_uri": "https://localhost:8080/"
        },
        "id": "THNb5UI83oJL",
        "outputId": "83a54c9f-25eb-436b-8ec9-e81803c05319"
      },
      "execution_count": 20,
      "outputs": [
        {
          "output_type": "stream",
          "name": "stdout",
          "text": [
            "Theoretical Mean Weekly Cost: 4000\n",
            "Sample Mean Weekly Cost: 3050\n",
            "Standard Deviation of Sample Mean: 125\n",
            "Standard Error of the Mean: 25.0\n",
            "Test Statistic (t): -38.0\n",
            "Critical Value: 1.7108820799094275\n",
            "Fail to reject the null hypothesis. There is not enough evidence to support the restaurant owners claim that the weekly operating costs are higher than the model suggests.\n"
          ]
        }
      ]
    },
    {
      "cell_type": "markdown",
      "source": [
        "1.Calculate the Test Statistic:\n",
        "Sample Mean Weekly Cost: {sample_mean_cost}\n",
        "Theoretical Mean Weekly Cost: {theoretical_cost_mean}\n",
        "Standard Deviation of Weekly Cost: {std_dev}\n",
        "Standard Error of the Mean: {standard_error}\n",
        "Test Statistic (t): {t_stat}\n",
        "\n",
        "2.Determine the Critical Value:\n",
        "Significance Level (alpha): {alpha}\n",
        "Degrees of Freedom: {degrees_of_freedom}\n",
        "Critical Value (t): {critical_value}\n",
        "\n",
        "3.Make a Decision:\n",
        "Comparison: Test Statistic (t) = {t_stat} vs. Critical Value (t) ={critical_value}\n",
        "Decision: {\"Reject the null hypothesis\" if t_stat > critical_value else \"Fail to reject the null hypothesis\"}\n",
        "\n",
        "4.Conclusion:\n",
        "Fail to reject the null hypothesis. There is not enough evidence to support the restaurant owners claim that the weekly operating costs are higher than the model suggests."
      ],
      "metadata": {
        "id": "PSqS9HZE6QtO"
      }
    },
    {
      "cell_type": "code",
      "source": [],
      "metadata": {
        "id": "M_htLJG85MVn"
      },
      "execution_count": null,
      "outputs": []
    }
  ]
}