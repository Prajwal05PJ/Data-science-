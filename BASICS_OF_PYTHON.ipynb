{
  "nbformat": 4,
  "nbformat_minor": 0,
  "metadata": {
    "colab": {
      "provenance": []
    },
    "kernelspec": {
      "name": "python3",
      "display_name": "Python 3"
    },
    "language_info": {
      "name": "python"
    }
  },
  "cells": [
    {
      "cell_type": "markdown",
      "source": [
        "**PRIME NUMBER **"
      ],
      "metadata": {
        "id": "aA3tD1bwFzVx"
      }
    },
    {
      "cell_type": "code",
      "execution_count": 33,
      "metadata": {
        "colab": {
          "base_uri": "https://localhost:8080/"
        },
        "id": "yRoiMFEpFUNs",
        "outputId": "e9b846b8-a250-4482-d006-124718dbc032"
      },
      "outputs": [
        {
          "output_type": "stream",
          "name": "stdout",
          "text": [
            "Enter the number:15\n",
            "The number is not prime\n"
          ]
        }
      ],
      "source": [
        "# Prompt the user to enter a number and convert the input to an integer\n",
        "n = int(input(\"Enter the number:\"))\n",
        "\n",
        "# Initialize a counter variable to count the number of divisors\n",
        "count = 0\n",
        "\n",
        "# Loop through all numbers from 1 to n (inclusive)\n",
        "for i in range(1, n + 1):\n",
        "    # Check if the current number i is a divisor of n\n",
        "    if n % i == 0:\n",
        "        # If i is a divisor, increment the counter by 1\n",
        "        count = count + 1\n",
        "\n",
        "# After the loop, check if the number of divisors is exactly 2\n",
        "if count == 2:\n",
        "    # If the number has exactly 2 divisors, it is a prime number\n",
        "    print(\"The number is prime\")\n",
        "else:\n",
        "    # If the number has more or fewer than 2 divisors, it is not a prime number\n",
        "    print(\"The number is not prime\")\n"
      ]
    },
    {
      "cell_type": "markdown",
      "source": [
        "**Product of Random Numbers**"
      ],
      "metadata": {
        "id": "iMXHbyrsGPfT"
      }
    },
    {
      "cell_type": "code",
      "source": [
        "import random  # Import the random module to generate random numbers\n",
        "\n",
        "# Generate a random integer between 0 and 10 (inclusive) and assign it to variable 'a'\n",
        "a = random.randint(0, 10)\n",
        "\n",
        "# Generate a random integer between 0 and 10 (inclusive) and assign it to variable 'b'\n",
        "b = random.randint(0, 10)\n",
        "\n",
        "# Calculate the product of 'a' and 'b' and store it in variable 'c'\n",
        "c = a * b\n",
        "\n",
        "# Prompt the user to input the product of 'a' and 'b', and convert the input to an integer\n",
        "n = int(input(f\"What is the product of {a} and {b} =\"))\n",
        "\n",
        "# Check if the user's answer is equal to the correct product\n",
        "if n == c:\n",
        "    # If the user's answer is correct, print \"Correct answer\"\n",
        "    print(\"Correct answer\")\n",
        "else:\n",
        "    # If the user's answer is incorrect, print the correct answer\n",
        "    print(f\"Answer is wrong and the correct answer is={c}\")\n"
      ],
      "metadata": {
        "colab": {
          "base_uri": "https://localhost:8080/"
        },
        "id": "v8iS6d4vF51u",
        "outputId": "227369fb-25a7-47a5-ce56-81c74e6ff6a2"
      },
      "execution_count": 32,
      "outputs": [
        {
          "output_type": "stream",
          "name": "stdout",
          "text": [
            "What is the product of 10 and 10 =90\n",
            "Answer is wrong and the correct answer is=100\n"
          ]
        }
      ]
    },
    {
      "cell_type": "markdown",
      "source": [
        "**Squares of Even/Odd Numbers**"
      ],
      "metadata": {
        "id": "r6XEepACIQoh"
      }
    },
    {
      "cell_type": "code",
      "source": [
        "# Loop through the range of numbers from 100 to 199\n",
        "for i in range(100, 200):\n",
        "    # Check if the current number is even\n",
        "    if i % 2 == 0:\n",
        "        # Calculate the square of the current number\n",
        "        n = i ** 2\n",
        "        # Print the current number and its square\n",
        "        print(f\"The square of the number:{i} is={n}\")\n"
      ],
      "metadata": {
        "colab": {
          "base_uri": "https://localhost:8080/"
        },
        "id": "ACkOkhjcGlpR",
        "outputId": "6b48a454-9e33-4864-d709-620a27cdc9c5"
      },
      "execution_count": 31,
      "outputs": [
        {
          "output_type": "stream",
          "name": "stdout",
          "text": [
            "The square of the number:100 is=10000\n",
            "The square of the number:102 is=10404\n",
            "The square of the number:104 is=10816\n",
            "The square of the number:106 is=11236\n",
            "The square of the number:108 is=11664\n",
            "The square of the number:110 is=12100\n",
            "The square of the number:112 is=12544\n",
            "The square of the number:114 is=12996\n",
            "The square of the number:116 is=13456\n",
            "The square of the number:118 is=13924\n",
            "The square of the number:120 is=14400\n",
            "The square of the number:122 is=14884\n",
            "The square of the number:124 is=15376\n",
            "The square of the number:126 is=15876\n",
            "The square of the number:128 is=16384\n",
            "The square of the number:130 is=16900\n",
            "The square of the number:132 is=17424\n",
            "The square of the number:134 is=17956\n",
            "The square of the number:136 is=18496\n",
            "The square of the number:138 is=19044\n",
            "The square of the number:140 is=19600\n",
            "The square of the number:142 is=20164\n",
            "The square of the number:144 is=20736\n",
            "The square of the number:146 is=21316\n",
            "The square of the number:148 is=21904\n",
            "The square of the number:150 is=22500\n",
            "The square of the number:152 is=23104\n",
            "The square of the number:154 is=23716\n",
            "The square of the number:156 is=24336\n",
            "The square of the number:158 is=24964\n",
            "The square of the number:160 is=25600\n",
            "The square of the number:162 is=26244\n",
            "The square of the number:164 is=26896\n",
            "The square of the number:166 is=27556\n",
            "The square of the number:168 is=28224\n",
            "The square of the number:170 is=28900\n",
            "The square of the number:172 is=29584\n",
            "The square of the number:174 is=30276\n",
            "The square of the number:176 is=30976\n",
            "The square of the number:178 is=31684\n",
            "The square of the number:180 is=32400\n",
            "The square of the number:182 is=33124\n",
            "The square of the number:184 is=33856\n",
            "The square of the number:186 is=34596\n",
            "The square of the number:188 is=35344\n",
            "The square of the number:190 is=36100\n",
            "The square of the number:192 is=36864\n",
            "The square of the number:194 is=37636\n",
            "The square of the number:196 is=38416\n",
            "The square of the number:198 is=39204\n"
          ]
        }
      ]
    },
    {
      "cell_type": "markdown",
      "source": [
        "**Word counter**"
      ],
      "metadata": {
        "id": "7d02_estKcHZ"
      }
    },
    {
      "cell_type": "code",
      "source": [
        "import string\n",
        "\n",
        "def count_words(input_text):\n",
        "    # Convert the text to lowercase to ensure case-insensitive counting\n",
        "    input_text = input_text.lower()\n",
        "\n",
        "    # Remove punctuation from the text using translate and maketrans\n",
        "    input_text = input_text.translate(str.maketrans('', '', string.punctuation))\n",
        "\n",
        "    # Split the cleaned text into words\n",
        "    words = input_text.split()\n",
        "\n",
        "    # Create a dictionary to store the word counts\n",
        "    word_counts = {}\n",
        "\n",
        "    # Iterate through each word in the list of words\n",
        "    for i in words:\n",
        "        # If the word is already in the dictionary, increment its count\n",
        "        if i in word_counts:\n",
        "            word_counts[i] += 1\n",
        "        # If the word is not in the dictionary, add it with a count of 1\n",
        "        else:\n",
        "            word_counts[i] = 1\n",
        "\n",
        "    # Return the dictionary containing word counts\n",
        "    return word_counts\n",
        "\n",
        "# Example input text\n",
        "input_text = \"This is a sample text. This text will be used to demonstrate the word counter.\"\n",
        "\n",
        "# Count the words in the input text\n",
        "word_counts = count_words(input_text)\n",
        "\n",
        "# Print the word counts\n",
        "for i, count in word_counts.items():\n",
        "    print(f\"'{i}': {count}\")\n"
      ],
      "metadata": {
        "colab": {
          "base_uri": "https://localhost:8080/"
        },
        "id": "7ayF9awZI36F",
        "outputId": "b25c40fc-d91c-4f25-e4e0-0603c84882fb"
      },
      "execution_count": 30,
      "outputs": [
        {
          "output_type": "stream",
          "name": "stdout",
          "text": [
            "'this': 2\n",
            "'is': 1\n",
            "'a': 1\n",
            "'sample': 1\n",
            "'text': 2\n",
            "'will': 1\n",
            "'be': 1\n",
            "'used': 1\n",
            "'to': 1\n",
            "'demonstrate': 1\n",
            "'the': 1\n",
            "'word': 1\n",
            "'counter': 1\n"
          ]
        }
      ]
    },
    {
      "cell_type": "markdown",
      "source": [
        "**Check for Palindrome**"
      ],
      "metadata": {
        "id": "q-3h7ZYQLLID"
      }
    },
    {
      "cell_type": "code",
      "source": [
        "# Initialize the string\n",
        "a =input(\"Enter the string:\")\n",
        "\n",
        "# Calculate the length of the string and convert it to an integer (though it's already an integer)\n",
        "n = int(len(a))\n",
        "\n",
        "# Store the length in the count variable\n",
        "count = n\n",
        "\n",
        "# Initialize the reversed number to 0 (Note: This logic is for reversing a number, not a string)\n",
        "rev = 0\n",
        "\n",
        "# Loop to reverse the digits of the number n\n",
        "while n > 0:\n",
        "    # Get the last digit of n (this won't work correctly since n is the length of the string)\n",
        "    a = n % 10\n",
        "\n",
        "    # Build the reversed number\n",
        "    rev = rev * 10 + a\n",
        "\n",
        "    # Remove the last digit from n\n",
        "    n = n // 10\n",
        "\n",
        "# Compare the original length with the reversed value (this comparison doesn't make sense for checking palindrome strings)\n",
        "if count == rev:\n",
        "    print(\"True\")\n",
        "else:\n",
        "    print(\"False\")\n"
      ],
      "metadata": {
        "colab": {
          "base_uri": "https://localhost:8080/"
        },
        "id": "8Zt7_67jK-ou",
        "outputId": "5aafef75-8038-4d5f-a79d-6fe10bba3f04"
      },
      "execution_count": 29,
      "outputs": [
        {
          "output_type": "stream",
          "name": "stdout",
          "text": [
            "Enter the string:abba\n",
            "True\n"
          ]
        }
      ]
    },
    {
      "cell_type": "code",
      "source": [],
      "metadata": {
        "id": "zPm38A0nLtk9"
      },
      "execution_count": null,
      "outputs": []
    }
  ]
}