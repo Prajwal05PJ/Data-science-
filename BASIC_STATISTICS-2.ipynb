{
  "nbformat": 4,
  "nbformat_minor": 0,
  "metadata": {
    "colab": {
      "provenance": []
    },
    "kernelspec": {
      "name": "python3",
      "display_name": "Python 3"
    },
    "language_info": {
      "name": "python"
    }
  },
  "cells": [
    {
      "cell_type": "markdown",
      "source": [
        "# Estimation And Confidence Intervals\n",
        " A. Build a 99% Confidence Interval Using Sample Standard Deviation:\n"
      ],
      "metadata": {
        "id": "yx8L-_OnwfWZ"
      }
    },
    {
      "cell_type": "code",
      "execution_count": 2,
      "metadata": {
        "id": "MVJ5m27jsNzL"
      },
      "outputs": [],
      "source": [
        "import numpy as np\n",
        "from scipy import stats"
      ]
    },
    {
      "cell_type": "code",
      "source": [
        "# Sample data\n",
        "data = np.array([1.13, 1.55, 1.43, 0.92, 1.25, 1.36, 1.32, 0.85, 1.07, 1.48, 1.20, 1.33, 1.18, 1.22, 1.29])"
      ],
      "metadata": {
        "id": "uRg0pliDuqPW"
      },
      "execution_count": 3,
      "outputs": []
    },
    {
      "cell_type": "code",
      "source": [
        "#CALCULATING MEAN AND STANDARD DEVIATION\n",
        "mean=np.mean(data)\n",
        "std=np.std(data)\n",
        "print(\"Mean=\",mean)\n",
        "print(\"Standard deviation=\",std)"
      ],
      "metadata": {
        "colab": {
          "base_uri": "https://localhost:8080/"
        },
        "id": "GICuSD0ouxss",
        "outputId": "12e90de7-7ade-4429-f839-2f6363d6c63d"
      },
      "execution_count": 5,
      "outputs": [
        {
          "output_type": "stream",
          "name": "stdout",
          "text": [
            "Mean= 1.2386666666666666\n",
            "Standard deviation= 0.18661427836285438\n"
          ]
        }
      ]
    },
    {
      "cell_type": "code",
      "source": [
        "#sample size\n",
        "n=len(data)\n",
        "print(\"Sample size=\",n)\n",
        "#degree of freedom\n",
        "df=n-1\n",
        "print(\"Degree of freedom=\",df)"
      ],
      "metadata": {
        "colab": {
          "base_uri": "https://localhost:8080/"
        },
        "id": "f4y-p35cvCNz",
        "outputId": "4530feaf-28a8-4e85-e2a9-02de8d7e45b1"
      },
      "execution_count": 6,
      "outputs": [
        {
          "output_type": "stream",
          "name": "stdout",
          "text": [
            "Sample size= 15\n",
            "Degree of freedom= 14\n"
          ]
        }
      ]
    },
    {
      "cell_type": "code",
      "source": [
        "#t-score for 99% confidence level\n",
        "\n",
        "t_score = stats.t.ppf(0.995, df)\n",
        "print(t_score)"
      ],
      "metadata": {
        "colab": {
          "base_uri": "https://localhost:8080/"
        },
        "id": "4wNNO3Scvgtu",
        "outputId": "88a51288-e587-4e7e-c661-a5b0cdee30fb"
      },
      "execution_count": 8,
      "outputs": [
        {
          "output_type": "stream",
          "name": "stdout",
          "text": [
            "2.97684273411266\n"
          ]
        }
      ]
    },
    {
      "cell_type": "code",
      "source": [
        "# Margin of error for sample standard deviation\n",
        "\n",
        "margin_of_error_t = t_score * (std / np.sqrt(n))\n",
        "print(margin_of_error_t)"
      ],
      "metadata": {
        "colab": {
          "base_uri": "https://localhost:8080/"
        },
        "id": "UobBiHD8vsNC",
        "outputId": "23b35ac1-c1c1-4793-923b-ea4964a7b091"
      },
      "execution_count": 13,
      "outputs": [
        {
          "output_type": "stream",
          "name": "stdout",
          "text": [
            "0.14343499802810397\n"
          ]
        }
      ]
    },
    {
      "cell_type": "code",
      "source": [
        "#Confidence interval using sample standard deviation\n",
        "\n",
        "confidence_interval_t = (mean - margin_of_error_t, mean + margin_of_error_t)\n",
        "print(confidence_interval_t)"
      ],
      "metadata": {
        "colab": {
          "base_uri": "https://localhost:8080/"
        },
        "id": "nMpCXEB-v1zh",
        "outputId": "ddf45165-f420-42e0-c76e-66ebf23f529e"
      },
      "execution_count": 14,
      "outputs": [
        {
          "output_type": "stream",
          "name": "stdout",
          "text": [
            "(1.0952316686385626, 1.3821016646947706)\n"
          ]
        }
      ]
    },
    {
      "cell_type": "markdown",
      "source": [
        "B. Build a 99% Confidence Interval Using Known Population Standard Deviation:"
      ],
      "metadata": {
        "id": "u3-EVLJZwqNm"
      }
    },
    {
      "cell_type": "code",
      "source": [
        "# Population standard deviation\n",
        "population_std = 0.2"
      ],
      "metadata": {
        "id": "_eVp3Z1wwHFv"
      },
      "execution_count": 23,
      "outputs": []
    },
    {
      "cell_type": "code",
      "source": [
        "# z-score for 99% confidence level\n",
        "z_score = stats.norm.ppf(0.995)\n",
        "print(z_score)"
      ],
      "metadata": {
        "colab": {
          "base_uri": "https://localhost:8080/"
        },
        "id": "6WRF_QX0wxVg",
        "outputId": "604e5702-5737-4278-c2fa-62a453a23860"
      },
      "execution_count": 20,
      "outputs": [
        {
          "output_type": "stream",
          "name": "stdout",
          "text": [
            "2.5758293035489004\n"
          ]
        }
      ]
    },
    {
      "cell_type": "code",
      "source": [
        "# Margin of error for population standard deviation\n",
        "margin_of_error_z = z_score * (population_std / np.sqrt(n))\n",
        "print(margin_of_error_z)"
      ],
      "metadata": {
        "colab": {
          "base_uri": "https://localhost:8080/"
        },
        "id": "NlBvac1kwzkm",
        "outputId": "d16a7b1c-7677-48f8-e4d8-3e06567bbc57"
      },
      "execution_count": 21,
      "outputs": [
        {
          "output_type": "stream",
          "name": "stdout",
          "text": [
            "0.13301525327090588\n"
          ]
        }
      ]
    },
    {
      "cell_type": "code",
      "source": [
        "# Confidence interval using known population standard deviation\n",
        "\n",
        "confidence_interval_z = (mean - margin_of_error_z, mean + margin_of_error_z)\n",
        "print(confidence_interval_z)\n"
      ],
      "metadata": {
        "colab": {
          "base_uri": "https://localhost:8080/"
        },
        "id": "T998nklvw2Pj",
        "outputId": "e5ca1b50-d209-4218-8148-c6a411f35e80"
      },
      "execution_count": 22,
      "outputs": [
        {
          "output_type": "stream",
          "name": "stdout",
          "text": [
            "(1.1056514133957607, 1.3716819199375725)\n"
          ]
        }
      ]
    },
    {
      "cell_type": "markdown",
      "source": [
        "**SUMMARY**\n",
        "1. **Sample Standard Deviation**:\n",
        "   - It computes the sample mean and standard deviation.\n",
        "   - Uses the t-distribution to find the margin of error and confidence interval.\n",
        "\n",
        "2. **Known Population Standard Deviation**:\n",
        "   - Uses a given population standard deviation.\n",
        "   - Employs the z-distribution to find the margin of error and confidence interval.\n",
        "\n",
        "The resulting intervals provide ranges within which the true population mean is likely to lie with 99% confidence."
      ],
      "metadata": {
        "id": "L0fcunYo2L47"
      }
    },
    {
      "cell_type": "code",
      "source": [],
      "metadata": {
        "id": "PHI7b1fhxHx6"
      },
      "execution_count": null,
      "outputs": []
    }
  ]
}